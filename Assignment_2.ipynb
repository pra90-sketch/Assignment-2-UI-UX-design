{
  "nbformat": 4,
  "nbformat_minor": 0,
  "metadata": {
    "colab": {
      "provenance": []
    },
    "kernelspec": {
      "name": "python3",
      "display_name": "Python 3"
    },
    "language_info": {
      "name": "python"
    }
  },
  "cells": [
    {
      "cell_type": "code",
      "execution_count": null,
      "metadata": {
        "id": "qA300mR2onOx"
      },
      "outputs": [],
      "source": [
        "# 1. Scenario: Creating an interface for a mobile app for a new banking service?\n",
        "  -> <iframe style=\"border: 1px solid rgba(0, 0, 0, 0.1);\" width=\"800\" height=\"450\" src=\"https://embed.figma.com/design/cvkJqFsXCkx25woWHUcULh/Untitled?node-id=0-1&embed-host=share\" allowfullscreen></iframe>"
      ]
    },
    {
      "cell_type": "code",
      "source": [
        "# 2. Scenario: Developing an interface for a health and fitness tracking application?\n",
        "  -> <iframe style=\"border: 1px solid rgba(0, 0, 0, 0.1);\" width=\"800\" height=\"450\" src=\"https://embed.figma.com/design/egFouPHLiksK6r2m8I40fJ/Untitled?embed-host=share\" allowfullscreen></iframe>"
      ],
      "metadata": {
        "id": "4gBdMITMo1Em"
      },
      "execution_count": null,
      "outputs": []
    },
    {
      "cell_type": "markdown",
      "source": [],
      "metadata": {
        "id": "yn80pLRnr17Q"
      }
    }
  ]
}